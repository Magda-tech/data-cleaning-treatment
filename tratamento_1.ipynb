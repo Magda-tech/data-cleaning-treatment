{
 "cells": [
  {
   "cell_type": "code",
   "execution_count": 4,
   "id": "1e4608b7",
   "metadata": {},
   "outputs": [
    {
     "name": "stdout",
     "output_type": "stream",
     "text": [
      "State\n",
      "PR    257\n",
      "RP      1\n",
      "RS    478\n",
      "SC    258\n",
      "SP      4\n",
      "TD      1\n",
      "dtype: int64\n",
      "State\n",
      "PR    257\n",
      "RS    484\n",
      "SC    258\n",
      "dtype: int64\n",
      "    Id  Score State    Gender  Age  Patrimony  Balance  Products  \\\n",
      "80  81    665    RS  Feminino   34          1  9664554         2   \n",
      "81  81    665    RS  Feminino   34          1  9664554         2   \n",
      "\n",
      "    TemCartCredito  Active        Wage  Exited  \n",
      "80               0       0  17141366.0       0  \n",
      "81               0       0  17141366.0       0  \n"
     ]
    },
    {
     "data": {
      "text/plain": [
       "(998, 12)"
      ]
     },
     "execution_count": 4,
     "metadata": {},
     "output_type": "execute_result"
    }
   ],
   "source": [
    "# Let's begin the data analysis!\n",
    "\n",
    "# First, import the necessary libraries\n",
    "import pandas as pd\n",
    "import statistics as sts\n",
    "\n",
    "# Now, import the dataset\n",
    "# We'll assign it to a variable called 'dataset'\n",
    "# In this case, the file is located at "../input/dados-1/Churn.csv"",
    "dataset = pd.read_csv(r\"C:\\Users\\Magda\\Downloads\\Churn.csv\", sep=\";\")\n",
    "\n",
    "# View the first few rows of the dataset\n",
    "dataset.head()\n",
    "\n",
    "# Check the total number of rows and columns\n",
    "dataset.shape\n",
    "\n",
    "# Rename the columns for clarity\n",
    "dataset.columns = [\n",
    "    \"Id\", \"Score\", \"State\", \"Gender\", \"Age\", \"Patrimony\", \"Balance\",\n",
    "    \"Products\", \"TemCartCredito\", \"Active\", \"Wage\", \"Exited\"\n",
    "]\n",
    "\n",
    "# View the updated dataset\n",
    "dataset.head()\n",
    "\n",
    "# Some states are incorrectly named; we only want data from PR, SC, and RS\n",
    "# Let's group the data by state to identify invalid entries\n",
    "grouped = dataset.groupby(\"State\").size()\n",
    "print(grouped)\n",
    "\n",
    "# We'll correct the invalid states (e.g., TD, SP, RP) by replacing them with the mode — in this case, \"RS\"\n",
    "dataset.loc[dataset['State'].isin(['TD', 'SP', 'RP']), 'State'] = 'RS'\n",
    "\n",
    "# View the updated state counts\n",
    "grouped = dataset.groupby(\"State\").size()\n",
    "print(grouped)\n",
    "\n",
    "# Let's clean the 'Age' column by ensuring all values are between 0 and 120\n",
    "# First, identify invalid age entries\n",
    "dataset.loc[(dataset['Age'] < 0) | (dataset['Age'] > 120)]\n",
    "\n",
    "# Replace invalid age values with the median\n",
    "median_age = sts.median(dataset['Age'])\n",
    "\n",
    "# Apply the replacement\n",
    "dataset.loc[(dataset['Age'] < 0) | (dataset['Age'] > 120), 'Age'] = median_age\n",
    "\n",
    "# Confirm that there are no more invalid age entries\n",
    "dataset.loc[(dataset['Age'] < 0) | (dataset['Age'] > 120)]\n",
    "\n",
    "# Check for duplicated IDs\n",
    "duplicates = dataset[dataset.duplicated(['Id'], keep=False)]\n",
    "print(duplicates)\n",
    "\n",
    "# Remove duplicates by keeping the first occurrence\n",
    "dataset.drop_duplicates(subset=\"Id\", keep=\"first\", inplace=True)\n",
    "\n",
    "# Confirm that duplicates were removed\n",
    "dataset[dataset.duplicated(['Id'], keep=False)]\n",
    "\n",
    "# Check the dataset size after cleaning\n",
    "dataset.shape\n"
   ]
  }
 ],
 "metadata": {
  "kernelspec": {
   "display_name": "base",
   "language": "python",
   "name": "python3"
  },
  "language_info": {
   "codemirror_mode": {
    "name": "ipython",
    "version": 3
   },
   "file_extension": ".py",
   "mimetype": "text/x-python",
   "name": "python",
   "nbconvert_exporter": "python",
   "pygments_lexer": "ipython3",
   "version": "3.8.8"
  }
 },
 "nbformat": 4,
 "nbformat_minor": 5
}
